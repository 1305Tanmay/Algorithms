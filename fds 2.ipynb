{
 "cells": [
  {
   "cell_type": "markdown",
   "id": "f8649652",
   "metadata": {},
   "source": [
    "# functions/module in python"
   ]
  },
  {
   "cell_type": "code",
   "execution_count": 7,
   "id": "1d1a7c97",
   "metadata": {},
   "outputs": [
    {
     "name": "stdout",
     "output_type": "stream",
     "text": [
      "value of n=4\n",
      "16.0\n"
     ]
    }
   ],
   "source": [
    "#write a function which finds square of a number\n",
    "def fun(n):\n",
    "    return (n*n)\n",
    "n=input(\"value of n=\")\n",
    "n=float(n)\n",
    "c=fun(n)    #--> function call\n",
    "print(c)"
   ]
  },
  {
   "cell_type": "code",
   "execution_count": 6,
   "id": "c58237ec",
   "metadata": {},
   "outputs": [
    {
     "name": "stdout",
     "output_type": "stream",
     "text": [
      "value of n=2\n",
      "16.0\n"
     ]
    }
   ],
   "source": [
    "#nesting of function call\n",
    "def fun(n):\n",
    "    return (n*n)\n",
    "n=input(\"value of n=\")\n",
    "n=float(n)\n",
    "c=fun(fun(n))    #--> nesting of function call\n",
    "print(c)"
   ]
  },
  {
   "cell_type": "code",
   "execution_count": 13,
   "id": "5737c287",
   "metadata": {},
   "outputs": [
    {
     "name": "stdout",
     "output_type": "stream",
     "text": [
      "4\n"
     ]
    }
   ],
   "source": [
    "#another way to the same problem\n",
    "def fun(n):\n",
    "    print(n*n)\n",
    "fun(2)"
   ]
  },
  {
   "cell_type": "code",
   "execution_count": 22,
   "id": "42340b13",
   "metadata": {},
   "outputs": [
    {
     "name": "stdout",
     "output_type": "stream",
     "text": [
      "a=4\n",
      "b=8\n",
      "c=9\n",
      "d=2\n",
      "9\n"
     ]
    }
   ],
   "source": [
    "#write a function to find maximum number between four numbers\n",
    "def max(x,y):\n",
    "    if x>y:\n",
    "        return(x)\n",
    "    else:   \n",
    "        return(y)\n",
    "a=input(\"a=\")\n",
    "b=input(\"b=\")\n",
    "c=input(\"c=\")\n",
    "d=input(\"d=\")\n",
    "\n",
    "a=int(a)\n",
    "b=int(b)\n",
    "c=int(c)\n",
    "d=int(d)\n",
    "\n",
    "m=max(a,b)\n",
    "m=max(m,c)\n",
    "m=max(m,d)\n",
    "\n",
    "print (m)\n",
    "    "
   ]
  },
  {
   "cell_type": "code",
   "execution_count": 26,
   "id": "db402092",
   "metadata": {},
   "outputs": [
    {
     "name": "stdout",
     "output_type": "stream",
     "text": [
      "welcome to python\n"
     ]
    }
   ],
   "source": [
    "#develop a function which prints welcome to python\n",
    "def fun():\n",
    "    print(\"welcome to python\")\n",
    "fun()    "
   ]
  },
  {
   "cell_type": "code",
   "execution_count": 27,
   "id": "6fa968de",
   "metadata": {},
   "outputs": [
    {
     "name": "stdout",
     "output_type": "stream",
     "text": [
      "100\n"
     ]
    }
   ],
   "source": [
    "def f1(x):\n",
    "    x=x+1\n",
    "    print(x)\n",
    "f1(99)    "
   ]
  },
  {
   "cell_type": "code",
   "execution_count": 31,
   "id": "6a907c54",
   "metadata": {},
   "outputs": [
    {
     "name": "stdout",
     "output_type": "stream",
     "text": [
      "[100, 20, 30, 40, 50]\n"
     ]
    }
   ],
   "source": [
    "def f2(x):\n",
    "    x[0]=100\n",
    "\n",
    "a=[10,20,30,40,50]\n",
    "f2(a)\n",
    "print(a)"
   ]
  },
  {
   "cell_type": "code",
   "execution_count": 5,
   "id": "829a1135",
   "metadata": {},
   "outputs": [
    {
     "name": "stdout",
     "output_type": "stream",
     "text": [
      "(10, 20, 30)\n"
     ]
    }
   ],
   "source": [
    "#variable number of parameters\n",
    "def f3(*args):\n",
    "    print(args)\n",
    "\n",
    "f3(10,20,30)    "
   ]
  },
  {
   "cell_type": "code",
   "execution_count": 2,
   "id": "e19231e4",
   "metadata": {},
   "outputs": [
    {
     "name": "stdout",
     "output_type": "stream",
     "text": [
      "16\n"
     ]
    }
   ],
   "source": [
    "#lambda function\n",
    "z=lambda x:x*x\n",
    "print(z(4))"
   ]
  },
  {
   "cell_type": "markdown",
   "id": "feb0be9c",
   "metadata": {},
   "source": [
    "whenever a function has another function as parameter ,it is known as higher order function,example-> filter(function,list), here function is a parameter"
   ]
  },
  {
   "cell_type": "code",
   "execution_count": 1,
   "id": "4859f994",
   "metadata": {},
   "outputs": [
    {
     "name": "stdout",
     "output_type": "stream",
     "text": [
      "[10, 2, 8]\n"
     ]
    }
   ],
   "source": [
    "#application of lambda function -> they are used in higher order function\n",
    "# write a function to separate even numbers from a given list of numbers\n",
    "# a=[10,2,13,7,15,8]\n",
    "\n",
    "a=[10,2,13,7,15,8]\n",
    "b=list(filter(lambda x:x%2==0,a))  #of form filter(fun,list)\n",
    "print(b)"
   ]
  },
  {
   "cell_type": "code",
   "execution_count": 2,
   "id": "8848a3c5",
   "metadata": {},
   "outputs": [
    {
     "name": "stdout",
     "output_type": "stream",
     "text": [
      "[13, 7, 15]\n"
     ]
    }
   ],
   "source": [
    "#for odd numbers\n",
    "a=[10,2,13,7,15,8]\n",
    "b=list(filter(lambda x:x%2!=0,a))  \n",
    "print(b)"
   ]
  },
  {
   "cell_type": "code",
   "execution_count": 4,
   "id": "3ccf89af",
   "metadata": {},
   "outputs": [
    {
     "name": "stdout",
     "output_type": "stream",
     "text": [
      "[75, 66, 99, 100]\n"
     ]
    }
   ],
   "source": [
    "#given a list a,create a list b which contains all the numbers>50\n",
    "a=[15,75,66,99,2,36,100]\n",
    "b=list(filter(lambda x:x>=50,a))\n",
    "print(b)"
   ]
  },
  {
   "cell_type": "code",
   "execution_count": 5,
   "id": "469887f6",
   "metadata": {},
   "outputs": [
    {
     "name": "stdout",
     "output_type": "stream",
     "text": [
      "[75, 66, 99, 100]\n"
     ]
    }
   ],
   "source": [
    "#another way to do the same question\n",
    "a=[15,75,66,99,2,36,100]\n",
    "b=[]\n",
    "for x in a:\n",
    "    if x>50:\n",
    "        b.append(x)\n",
    "print(b)        "
   ]
  },
  {
   "cell_type": "code",
   "execution_count": 8,
   "id": "cb2ecaaf",
   "metadata": {},
   "outputs": [
    {
     "name": "stdout",
     "output_type": "stream",
     "text": [
      "[100, 900, 4, 49, 64, 16]\n"
     ]
    }
   ],
   "source": [
    "# map function -> higher order function\n",
    "# create a list using function which contains squares of all the\n",
    "#numbers given a list\n",
    "a=[10,30,2,7,8,4]\n",
    "b=list(map(lambda x:x**2,a))\n",
    "print(b)"
   ]
  },
  {
   "cell_type": "code",
   "execution_count": 9,
   "id": "558c0edd",
   "metadata": {},
   "outputs": [
    {
     "name": "stdout",
     "output_type": "stream",
     "text": [
      "[11, 22, 33, 44, 55]\n"
     ]
    }
   ],
   "source": [
    "#given list a and b,create a c list which contains a+b\n",
    "a=[1,2,3,4,5]\n",
    "b=[10,20,30,40,50] #if there is less no. of elements,that no. is printed\n",
    "c=list(map(lambda x,y:x+y,a,b))\n",
    "print(c)"
   ]
  },
  {
   "cell_type": "code",
   "execution_count": 11,
   "id": "6f48b469",
   "metadata": {},
   "outputs": [
    {
     "name": "stdout",
     "output_type": "stream",
     "text": [
      "[1, 4, 9, 16, 25]\n"
     ]
    }
   ],
   "source": [
    "#we can use a named function instead of lambda\n",
    "def square(x):\n",
    "    return x*x\n",
    "a=[1,2,3,4,5]\n",
    "b=list(map(square,a))\n",
    "print(b)"
   ]
  },
  {
   "cell_type": "code",
   "execution_count": 8,
   "id": "61a635f9",
   "metadata": {},
   "outputs": [
    {
     "name": "stdout",
     "output_type": "stream",
     "text": [
      "60\n"
     ]
    }
   ],
   "source": [
    "# create a program to add many numbers ,using variable number of parameters\n",
    "def sum(*args):\n",
    "    s=0\n",
    "    for x in args:\n",
    "        s=s+x\n",
    "    return s\n",
    "print(sum(10,50))\n"
   ]
  },
  {
   "cell_type": "code",
   "execution_count": 10,
   "id": "6ba8470d",
   "metadata": {},
   "outputs": [
    {
     "name": "stdout",
     "output_type": "stream",
     "text": [
      "70\n"
     ]
    }
   ],
   "source": [
    "#using positional and variable number of parameters together\n",
    "def sum(x,y,*args):\n",
    "    s=0\n",
    "    s=x+y\n",
    "    for e in args:\n",
    "        s=s+e\n",
    "    return s\n",
    "print(sum(10,20,40))\n",
    "    "
   ]
  },
  {
   "cell_type": "code",
   "execution_count": 13,
   "id": "0be12c73",
   "metadata": {},
   "outputs": [
    {
     "name": "stdout",
     "output_type": "stream",
     "text": [
      "10 20 (30, 40) 50 70 {'m': 60, 'n': 90}\n"
     ]
    }
   ],
   "source": [
    "def fun(x,y,*args,p,q,**kwargs):   #**kwargs is used to print dict\n",
    "    print(x,y,args,p,q,kwargs)\n",
    "fun(10,20,30,40,p=50,q=70,m=60,n=90) "
   ]
  },
  {
   "cell_type": "code",
   "execution_count": 14,
   "id": "80d8ce2b",
   "metadata": {},
   "outputs": [
    {
     "name": "stdout",
     "output_type": "stream",
     "text": [
      "16\n"
     ]
    }
   ],
   "source": [
    "#default parameters\n",
    "def add(x,y=6):\n",
    "    return x+y\n",
    "print(add(10))"
   ]
  },
  {
   "cell_type": "code",
   "execution_count": 6,
   "id": "75502de2",
   "metadata": {},
   "outputs": [
    {
     "name": "stdout",
     "output_type": "stream",
     "text": [
      "108\n"
     ]
    }
   ],
   "source": [
    "def add(x,y):\n",
    "    return(x+y)\n",
    "z=(add(100,8))\n",
    "print(z)"
   ]
  },
  {
   "cell_type": "code",
   "execution_count": null,
   "id": "3d97f0d1",
   "metadata": {},
   "outputs": [],
   "source": []
  }
 ],
 "metadata": {
  "kernelspec": {
   "display_name": "Python 3 (ipykernel)",
   "language": "python",
   "name": "python3"
  },
  "language_info": {
   "codemirror_mode": {
    "name": "ipython",
    "version": 3
   },
   "file_extension": ".py",
   "mimetype": "text/x-python",
   "name": "python",
   "nbconvert_exporter": "python",
   "pygments_lexer": "ipython3",
   "version": "3.9.7"
  }
 },
 "nbformat": 4,
 "nbformat_minor": 5
}
